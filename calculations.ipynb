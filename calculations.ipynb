{
 "cells": [
  {
   "cell_type": "code",
   "execution_count": 1,
   "metadata": {},
   "outputs": [],
   "source": [
    "import sympy as sp"
   ]
  },
  {
   "cell_type": "code",
   "execution_count": 2,
   "metadata": {},
   "outputs": [],
   "source": [
    "x_, y_, z_, t_ = sp.symbols('x y z t')\n",
    "k_, j_, s_, l_= sp.symbols('k j s l', integer=True)\n",
    "X = sp.IndexedBase('X')"
   ]
  },
  {
   "cell_type": "code",
   "execution_count": 3,
   "metadata": {},
   "outputs": [
    {
     "data": {
      "text/latex": [
       "$\\displaystyle {X}_{j}$"
      ],
      "text/plain": [
       "X[j]"
      ]
     },
     "execution_count": 3,
     "metadata": {},
     "output_type": "execute_result"
    }
   ],
   "source": [
    "X[j_]"
   ]
  },
  {
   "cell_type": "code",
   "execution_count": 4,
   "metadata": {},
   "outputs": [],
   "source": [
    "def x_l(l, s):\n",
    "    return sp.Rational(1,2) * (l*(l+1) - 2*s*(s+1))"
   ]
  },
  {
   "cell_type": "code",
   "execution_count": 5,
   "metadata": {},
   "outputs": [],
   "source": [
    "def mult(x, j, s):\n",
    "    m = 1\n",
    "    for l in range(s+1):\n",
    "        if l != j:\n",
    "            m *= (x - X[l]) / (X[j] - X[l])\n",
    "    return m"
   ]
  },
  {
   "cell_type": "code",
   "execution_count": 52,
   "metadata": {},
   "outputs": [
    {
     "data": {
      "text/latex": [
       "$\\displaystyle - \\frac{\\left(x - {X}_{0}\\right) \\left(x - {X}_{2}\\right) \\left(x - {X}_{3}\\right) \\left(x - {X}_{4}\\right)}{\\left({X}_{0} - {X}_{1}\\right) \\left({X}_{1} - {X}_{2}\\right) \\left({X}_{1} - {X}_{3}\\right) \\left({X}_{1} - {X}_{4}\\right)}$"
      ],
      "text/plain": [
       "-(x - X[0])*(x - X[2])*(x - X[3])*(x - X[4])/((X[0] - X[1])*(X[1] - X[2])*(X[1] - X[3])*(X[1] - X[4]))"
      ]
     },
     "execution_count": 52,
     "metadata": {},
     "output_type": "execute_result"
    }
   ],
   "source": [
    "co = []\n",
    "# for s in range(1,30):\n",
    "#     print(s)\n",
    "s = 4\n",
    "sum_ = []\n",
    "sumo = 0\n",
    "for j in range(1, s+1):\n",
    "    su = mult(x_, j, s) * sp.summation(1/k_, (k_, 1, j))\n",
    "    sumo += su\n",
    "    sum_.append(su.as_poly(x_))\n",
    "sp.factor( sum_[0].as_expr().coeff(x_**(s-4)))\n"
   ]
  },
  {
   "cell_type": "code",
   "execution_count": 41,
   "metadata": {},
   "outputs": [
    {
     "data": {
      "text/latex": [
       "$\\displaystyle - \\frac{3 x \\left(x^{2} {X}_{0} + x^{2} {X}_{1} + x^{2} {X}_{3} + x^{2} {X}_{4} - x {X}_{0} {X}_{1} - x {X}_{0} {X}_{3} - x {X}_{0} {X}_{4} - x {X}_{1} {X}_{3} - x {X}_{1} {X}_{4} - x {X}_{3} {X}_{4} + {X}_{0} {X}_{1} {X}_{3} + {X}_{0} {X}_{1} {X}_{4} + {X}_{0} {X}_{3} {X}_{4} + {X}_{1} {X}_{3} {X}_{4}\\right)}{2 \\left({X}_{0} - {X}_{2}\\right) \\left({X}_{1} - {X}_{2}\\right) \\left({X}_{2} - {X}_{3}\\right) \\left({X}_{2} - {X}_{4}\\right)}$"
      ],
      "text/plain": [
       "-3*x*(x**2*X[0] + x**2*X[1] + x**2*X[3] + x**2*X[4] - x*X[0]*X[1] - x*X[0]*X[3] - x*X[0]*X[4] - x*X[1]*X[3] - x*X[1]*X[4] - x*X[3]*X[4] + X[0]*X[1]*X[3] + X[0]*X[1]*X[4] + X[0]*X[3]*X[4] + X[1]*X[3]*X[4])/(2*(X[0] - X[2])*(X[1] - X[2])*(X[2] - X[3])*(X[2] - X[4]))"
      ]
     },
     "execution_count": 41,
     "metadata": {},
     "output_type": "execute_result"
    }
   ],
   "source": [
    "sp.factor(sum_[1].as_expr().coeff(x_**(s-4)))"
   ]
  },
  {
   "cell_type": "code",
   "execution_count": 42,
   "metadata": {},
   "outputs": [
    {
     "data": {
      "text/latex": [
       "$\\displaystyle \\frac{11 x \\left(x^{2} {X}_{0} + x^{2} {X}_{1} + x^{2} {X}_{2} + x^{2} {X}_{4} - x {X}_{0} {X}_{1} - x {X}_{0} {X}_{2} - x {X}_{0} {X}_{4} - x {X}_{1} {X}_{2} - x {X}_{1} {X}_{4} - x {X}_{2} {X}_{4} + {X}_{0} {X}_{1} {X}_{2} + {X}_{0} {X}_{1} {X}_{4} + {X}_{0} {X}_{2} {X}_{4} + {X}_{1} {X}_{2} {X}_{4}\\right)}{6 \\left({X}_{0} - {X}_{3}\\right) \\left({X}_{1} - {X}_{3}\\right) \\left({X}_{2} - {X}_{3}\\right) \\left({X}_{3} - {X}_{4}\\right)}$"
      ],
      "text/plain": [
       "11*x*(x**2*X[0] + x**2*X[1] + x**2*X[2] + x**2*X[4] - x*X[0]*X[1] - x*X[0]*X[2] - x*X[0]*X[4] - x*X[1]*X[2] - x*X[1]*X[4] - x*X[2]*X[4] + X[0]*X[1]*X[2] + X[0]*X[1]*X[4] + X[0]*X[2]*X[4] + X[1]*X[2]*X[4])/(6*(X[0] - X[3])*(X[1] - X[3])*(X[2] - X[3])*(X[3] - X[4]))"
      ]
     },
     "execution_count": 42,
     "metadata": {},
     "output_type": "execute_result"
    }
   ],
   "source": [
    "sp.factor(sum_[2].as_expr().coeff(x_**(s-4)))"
   ]
  },
  {
   "cell_type": "code",
   "execution_count": 43,
   "metadata": {},
   "outputs": [
    {
     "data": {
      "text/latex": [
       "$\\displaystyle - \\frac{25 x \\left(x^{2} {X}_{0} + x^{2} {X}_{1} + x^{2} {X}_{2} + x^{2} {X}_{3} - x {X}_{0} {X}_{1} - x {X}_{0} {X}_{2} - x {X}_{0} {X}_{3} - x {X}_{1} {X}_{2} - x {X}_{1} {X}_{3} - x {X}_{2} {X}_{3} + {X}_{0} {X}_{1} {X}_{2} + {X}_{0} {X}_{1} {X}_{3} + {X}_{0} {X}_{2} {X}_{3} + {X}_{1} {X}_{2} {X}_{3}\\right)}{12 \\left({X}_{0} - {X}_{4}\\right) \\left({X}_{1} - {X}_{4}\\right) \\left({X}_{2} - {X}_{4}\\right) \\left({X}_{3} - {X}_{4}\\right)}$"
      ],
      "text/plain": [
       "-25*x*(x**2*X[0] + x**2*X[1] + x**2*X[2] + x**2*X[3] - x*X[0]*X[1] - x*X[0]*X[2] - x*X[0]*X[3] - x*X[1]*X[2] - x*X[1]*X[3] - x*X[2]*X[3] + X[0]*X[1]*X[2] + X[0]*X[1]*X[3] + X[0]*X[2]*X[3] + X[1]*X[2]*X[3])/(12*(X[0] - X[4])*(X[1] - X[4])*(X[2] - X[4])*(X[3] - X[4]))"
      ]
     },
     "execution_count": 43,
     "metadata": {},
     "output_type": "execute_result"
    }
   ],
   "source": [
    "sp.factor(sum_[3].as_expr().coeff(x_**(s-4)))"
   ]
  },
  {
   "cell_type": "code",
   "execution_count": 56,
   "metadata": {},
   "outputs": [],
   "source": [
    "araaa = sumo.as_poly(x_)"
   ]
  },
  {
   "cell_type": "code",
   "execution_count": 60,
   "metadata": {},
   "outputs": [],
   "source": [
    "bla = araaa.as_expr().coeff(x_**(s))"
   ]
  },
  {
   "cell_type": "code",
   "execution_count": 69,
   "metadata": {},
   "outputs": [
    {
     "data": {
      "text/latex": [
       "$\\displaystyle - \\frac{{X}_{0} {X}_{2} + {X}_{0} {X}_{3} + {X}_{0} {X}_{4} + {X}_{2} {X}_{3} + {X}_{2} {X}_{4} + {X}_{3} {X}_{4}}{\\left({X}_{0} - {X}_{1}\\right) \\left({X}_{1} - {X}_{2}\\right) \\left({X}_{1} - {X}_{3}\\right) \\left({X}_{1} - {X}_{4}\\right)}$"
      ],
      "text/plain": [
       "-(X[0]*X[2] + X[0]*X[3] + X[0]*X[4] + X[2]*X[3] + X[2]*X[4] + X[3]*X[4])/((X[0] - X[1])*(X[1] - X[2])*(X[1] - X[3])*(X[1] - X[4]))"
      ]
     },
     "execution_count": 69,
     "metadata": {},
     "output_type": "execute_result"
    }
   ],
   "source": [
    "sp.factor(sum_[0].as_expr().coeff(x_**(s-2)))"
   ]
  },
  {
   "cell_type": "code",
   "execution_count": null,
   "metadata": {},
   "outputs": [],
   "source": []
  }
 ],
 "metadata": {
  "kernelspec": {
   "display_name": "Python 3",
   "language": "python",
   "name": "python3"
  },
  "language_info": {
   "codemirror_mode": {
    "name": "ipython",
    "version": 3
   },
   "file_extension": ".py",
   "mimetype": "text/x-python",
   "name": "python",
   "nbconvert_exporter": "python",
   "pygments_lexer": "ipython3",
   "version": "3.7.5"
  }
 },
 "nbformat": 4,
 "nbformat_minor": 4
}
